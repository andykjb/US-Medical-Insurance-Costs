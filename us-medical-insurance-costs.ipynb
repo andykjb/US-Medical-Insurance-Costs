{
 "cells": [
  {
   "cell_type": "markdown",
   "metadata": {},
   "source": [
    "# U.S. Medical Insurance Costs"
   ]
  },
  {
   "cell_type": "code",
   "execution_count": 77,
   "metadata": {},
   "outputs": [],
   "source": [
    "import csv"
   ]
  },
  {
   "cell_type": "code",
   "execution_count": 78,
   "metadata": {},
   "outputs": [],
   "source": [
    "## Scope ###\n",
    "\n",
    "## Age ##\n",
    "# Find the average age, for all and gender\n",
    "\n",
    "## Charges ##\n",
    "# Average charge, for all and gender\n",
    "\n",
    "## Children ##\n",
    "# Ratio of having kids vs not\n",
    "# Average amount of kids in segment 'having kids'\n",
    "\n",
    "## BMI ##\n",
    "# Average BMI\n",
    "# Ratio of BMI low, normal, high\n",
    "\n",
    "## Smoking ##\n",
    "# Find ratio of smokers in genders\n",
    "# Find ratio of smokers with low, normal and high BMI\n",
    "# Find ratio of smokers for people with and without kids\n",
    "\n",
    "## Regions ##\n",
    "# Find ratio between regions\n",
    "# Find price difference between regions\n",
    "\n",
    "\n",
    "\n"
   ]
  },
  {
   "cell_type": "code",
   "execution_count": 170,
   "metadata": {
    "tags": []
   },
   "outputs": [],
   "source": [
    "\n",
    "\n",
    "with open('insurance.csv', newline='') as csvfile:\n",
    "    fieldnames = ['age','sex','bmi','children','smoker','region','charges']\n",
    "    data = list(csv.DictReader(csvfile, fieldnames=fieldnames))\n",
    "\n",
    "    for i in range(1,len(data)):\n",
    "        data[i]['age'] = int(data[i]['age'])\n",
    "        data[i]['bmi'] = float(data[i]['bmi'])\n",
    "        data[i]['children'] = float(data[i]['children'])\n",
    "        data[i]['charges'] = float(data[i]['charges'])\n",
    "\n",
    "  \n",
    "    \n"
   ]
  },
  {
   "cell_type": "code",
   "execution_count": 135,
   "metadata": {},
   "outputs": [],
   "source": [
    "    def list_mean(list):\n",
    "        total = 0\n",
    "        for val in list:\n",
    "            total += val\n",
    "        return total / len(list)\n",
    "    \n",
    "    def ratio(main_list, sub_list):\n",
    "        return len(sub_list) / len(main_list)\n"
   ]
  },
  {
   "cell_type": "code",
   "execution_count": 136,
   "metadata": {},
   "outputs": [
    {
     "output_type": "execute_result",
     "data": {
      "text/plain": [
       "38.917159763313606"
      ]
     },
     "metadata": {},
     "execution_count": 136
    }
   ],
   "source": [
    "    ## Age ##\n",
    "    # Find the average age for all customers\n",
    "    \n",
    "    all_gender_age = [i['age'] for i in data]\n",
    "    all_gender_age.remove('age') #clean up of values\n",
    "    \n",
    "    list_mean(all_gender_age)\n",
    "    #prints 39.20702541106129\n",
    "    \n",
    "\n",
    "    # Find the average age for both genders\n",
    "    female_age = [i['age'] for i in data if i['sex'] == 'female']\n",
    "    list_mean(female_age)\n",
    "    #prints 39.503021148036254\n",
    "\n",
    "    male_age = [i['age'] for i in data if i['sex'] == 'male']\n",
    "    list_mean(male_age)\n",
    "    #prints 38.917159763313606"
   ]
  },
  {
   "cell_type": "code",
   "execution_count": 137,
   "metadata": {},
   "outputs": [
    {
     "output_type": "execute_result",
     "data": {
      "text/plain": [
       "12569.57884383534"
      ]
     },
     "metadata": {},
     "execution_count": 137
    }
   ],
   "source": [
    "    ## Charges ##\n",
    "    # Average charge for all\n",
    "    \n",
    "    all_charges = [i['charges'] for i in data]\n",
    "    all_charges.remove('charges')\n",
    "\n",
    "    list_mean(all_charges)\n",
    "    #prints 13270.422265141257\n",
    "\n",
    "    # Average charge for genders\n",
    "    female_charges = [i['charges'] for i in data if i['sex'] == 'female']\n",
    "    list_mean(female_charges)\n",
    "    #prints 12569.57884383534"
   ]
  },
  {
   "cell_type": "code",
   "execution_count": 198,
   "metadata": {
    "tags": []
   },
   "outputs": [
    {
     "output_type": "execute_result",
     "data": {
      "text/plain": [
       "1.9175392670157068"
      ]
     },
     "metadata": {},
     "execution_count": 198
    }
   ],
   "source": [
    "    ## Children ##\n",
    "\n",
    "    have_kids = [data[i] for i in range(1, len(data)) if data[i]['children'] > 0]\n",
    "    no_kdis = [data[i] for i in range(1, len(data)) if data[i]['children'] == 0]\n",
    "\n",
    "    # Ratio of having kids vs not\n",
    "    ratio(data, have_kids)\n",
    "    #prints 0.5705750560119492\n",
    "\n",
    "    # Average amount of kids in segment 'having kids'\n",
    "    num_of_kids = [i['children'] for i in have_kids]\n",
    "    list_mean(num_of_kids)\n",
    "    #prints 1.9175392670157068\n"
   ]
  },
  {
   "cell_type": "code",
   "execution_count": 182,
   "metadata": {},
   "outputs": [
    {
     "output_type": "stream",
     "name": "stdout",
     "text": [
      "1.0\n"
     ]
    }
   ],
   "source": [
    "    ## BMI ##\n",
    "    all_bmis = [i['bmi'] for i in data]\n",
    "    all_bmis.remove('bmi')\n",
    "    for i in range(0, len(all_bmis)):\n",
    "        all_bmis[i] = float(all_bmis[i])\n",
    "    \n",
    "    # Average BMI\n",
    "    list_mean(all_bmis)\n",
    "    #prints 30.663396860986538\n",
    "    \n",
    "    # Ratio of BMI low, normal, high\n",
    "    #Low < 18.5\n",
    "    #normal 18.5 - 24.9\n",
    "    #High > 24.9\n",
    "\n",
    "    low_bmis = [data[i] for i in range(1, len(data)) if data[i]['bmi'] < 18.5]\n",
    "    normal_bmis = [data[i] for i in range(1, len(data)) if data[i]['bmi'] >= 18.5 and data[i]['bmi'] <= 24.9]\n",
    "    high_bmis = [data[i] for i in range(1, len(data)) if data[i]['bmi'] > 24.9]\n",
    "\n",
    "    ratio(all_bmis,low_bmis)\n",
    "    #prints 0.014947683109118086\n",
    "\n",
    "    ratio(all_bmis,normal_bmis)\n",
    "    #prints 0.16591928251121077\n",
    "\n",
    "    ratio(all_bmis,high_bmis)\n",
    "    #prints 0.8191330343796711\n",
    "\n"
   ]
  },
  {
   "cell_type": "code",
   "execution_count": 187,
   "metadata": {
    "tags": []
   },
   "outputs": [
    {
     "output_type": "stream",
     "name": "stdout",
     "text": [
      "0.01824817518248175\n0.18248175182481752\n0.7956204379562044\n"
     ]
    }
   ],
   "source": [
    "    ## Smoking ##\n",
    "    smokers = [i for i in data if i['smoker'] == 'yes']\n",
    "    non_smokers = [i for i in data if i['smoker'] == 'no' ]\n",
    "\n",
    "    ratio(data, smokers)\n",
    "    #prints 0.2046303211351755\n",
    "\n",
    "    # Find ratio of smokers in genders\n",
    "    \n",
    "    # Find ratio of smokers with low, normal and high BMI\n",
    "    low_bmi_smokers = [low_bmis[i] for i in range(1, len(low_bmis)) if low_bmis[i]['smoker'] == 'yes']\n",
    "    normal_bmi_smokers = [normal_bmis[i] for i in range(1, len(normal_bmis)) if normal_bmis[i]['smoker'] == 'yes']\n",
    "    high_bmi_smokers = [high_bmis[i] for i in range(1, len(high_bmis)) if high_bmis[i]['smoker'] == 'yes']\n",
    "\n",
    "    print(ratio(smokers, low_bmi_smokers))\n",
    "    #prints 0.01824817518248175\n",
    "\n",
    "    print(ratio(smokers, normal_bmi_smokers))\n",
    "    #prints 0.18248175182481752\n",
    "\n",
    "    print(ratio(smokers, high_bmi_smokers))\n",
    "    #prints 0.7956204379562044\n",
    "    \n",
    "    # Find ratio of smokers for people with and without kids\n",
    "\n",
    "\n",
    "\n"
   ]
  },
  {
   "cell_type": "code",
   "execution_count": null,
   "metadata": {},
   "outputs": [],
   "source": []
  }
 ],
 "metadata": {
  "kernelspec": {
   "name": "python3",
   "display_name": "Python 3.8.8 64-bit ('base': conda)"
  },
  "language_info": {
   "codemirror_mode": {
    "name": "ipython",
    "version": 3
   },
   "file_extension": ".py",
   "mimetype": "text/x-python",
   "name": "python",
   "nbconvert_exporter": "python",
   "pygments_lexer": "ipython3",
   "version": "3.8.8"
  },
  "interpreter": {
   "hash": "d2d89f1d45a9cdac92ac563e975a3f3575462325b50059fcc33a08ca2f6292be"
  }
 },
 "nbformat": 4,
 "nbformat_minor": 4
}