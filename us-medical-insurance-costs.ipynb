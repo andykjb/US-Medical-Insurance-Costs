{
 "cells": [
  {
   "cell_type": "markdown",
   "metadata": {},
   "source": [
    "# U.S. Medical Insurance Costs"
   ]
  },
  {
   "cell_type": "code",
   "execution_count": 77,
   "metadata": {},
   "outputs": [],
   "source": [
    "import csv"
   ]
  },
  {
   "cell_type": "code",
   "execution_count": 78,
   "metadata": {},
   "outputs": [],
   "source": [
    "## Scope ###\n",
    "\n",
    "## Age ##\n",
    "# Find the average age, for all and gender\n",
    "\n",
    "## Charges ##\n",
    "# Average charge, for all and gender\n",
    "\n",
    "## BMI ##\n",
    "# Average BMI\n",
    "# Ratio of BMI low, normal, high\n",
    "\n",
    "## Smoking ##\n",
    "# Find ratio of smokers in genders\n",
    "# Find ratio of smokers with low, normal and high BMI\n",
    "# Find ratio of smokers for people with and without kids\n",
    "\n",
    "## Regions ##\n",
    "# Find ratio between regions\n",
    "# Find price difference between regions\n",
    "# Possible reason for higher, lower price in certain region\n",
    "\n",
    "## Children ##\n",
    "# Ratio of having kids vs not\n",
    "# Average price increase of 1 child\n",
    "# Average amount of kids in segment 'having kids'\n",
    "\n"
   ]
  },
  {
   "cell_type": "code",
   "execution_count": 83,
   "metadata": {
    "tags": []
   },
   "outputs": [],
   "source": [
    "\n",
    "\n",
    "with open('insurance.csv', newline='') as csvfile:\n",
    "    fieldnames = ['age','sex','bmi','children','smoker','region','charges']\n",
    "    data = list(csv.DictReader(csvfile, fieldnames=fieldnames))\n",
    "\n",
    "    #print(data)\n",
    "    "
   ]
  },
  {
   "cell_type": "code",
   "execution_count": null,
   "metadata": {},
   "outputs": [],
   "source": [
    "    def list_mean(list):\n",
    "        total = 0\n",
    "        for val in list:\n",
    "            total += float(val)\n",
    "        return total / len(list)\n"
   ]
  },
  {
   "cell_type": "code",
   "execution_count": 81,
   "metadata": {},
   "outputs": [
    {
     "output_type": "execute_result",
     "data": {
      "text/plain": [
       "38.917159763313606"
      ]
     },
     "metadata": {},
     "execution_count": 81
    }
   ],
   "source": [
    "    ## Age ##\n",
    "    # Find the average age for all customers\n",
    "    \n",
    "    all_gender_age = [i['age'] for i in data]\n",
    "    all_gender_age.remove('age') #clean up of values\n",
    "    \n",
    "    list_mean(all_gender_age)\n",
    "    #prints 39.20702541106129\n",
    "    \n",
    "\n",
    "    # Find the average age for both genders\n",
    "    female_age = [i['age'] for i in data if i['sex'] == 'female']\n",
    "    list_mean(female_age)\n",
    "    #prints 39.503021148036254\n",
    "\n",
    "    male_age = [i['age'] for i in data if i['sex'] == 'male']\n",
    "    list_mean(male_age)\n",
    "    #prints 38.917159763313606"
   ]
  },
  {
   "cell_type": "code",
   "execution_count": 72,
   "metadata": {},
   "outputs": [
    {
     "output_type": "stream",
     "name": "stdout",
     "text": [
      "13270.422265141257\n"
     ]
    },
    {
     "output_type": "execute_result",
     "data": {
      "text/plain": [
       "12569.57884383534"
      ]
     },
     "metadata": {},
     "execution_count": 72
    }
   ],
   "source": [
    "    ## Charges ##\n",
    "    # Average charge for all\n",
    "    \n",
    "    all_charges = [i['charges'] for i in data]\n",
    "    all_charges.remove('charges')\n",
    "\n",
    "    list_mean(all_charges)\n",
    "    #prints 13270.422265141257\n",
    "\n",
    "    # Average charge for genders\n",
    "    female_charges = [i['charges'] for i in data if i['sex'] == 'female']\n",
    "    list_mean(female_charges)\n",
    "    #prints 12569.57884383534"
   ]
  },
  {
   "cell_type": "code",
   "execution_count": 88,
   "metadata": {},
   "outputs": [
    {
     "output_type": "stream",
     "name": "stdout",
     "text": [
      "30.663396860986538\n"
     ]
    }
   ],
   "source": [
    "    ## BMI ##\n",
    "    # Average BMI\n",
    "    all_bmis = [i['bmi'] for i in data]\n",
    "    all_bmis.remove('bmi')\n",
    "    list_mean(all_bmis)\n",
    "    #prints 30.663396860986538\n",
    "    \n",
    "    \n",
    "    # Ratio of BMI low, normal, high"
   ]
  },
  {
   "cell_type": "code",
   "execution_count": 86,
   "metadata": {},
   "outputs": [
    {
     "output_type": "stream",
     "name": "stdout",
     "text": [
      "0.20478325859491778\n"
     ]
    }
   ],
   "source": [
    "    ## Smoking ##\n",
    "    # Find ratio of smokers in genders\n",
    "    smokers = sum(1 for i in data if i['smoker'] == 'yes' )\n",
    "    non_smokers = sum(1 for i in data if i['smoker'] == 'no' )\n",
    "\n",
    "    smokers_ratio = smokers / (smokers + non_smokers)\n",
    "    #prints 0.20478325859491778\n",
    "    \n",
    "    # Find ratio of smokers with low, normal and high BMI\n",
    "\n",
    "\n",
    "\n",
    "    # Find ratio of smokers for people with and without kids\n",
    "\n",
    "\n",
    "\n"
   ]
  },
  {
   "cell_type": "code",
   "execution_count": null,
   "metadata": {},
   "outputs": [],
   "source": []
  }
 ],
 "metadata": {
  "kernelspec": {
   "name": "python3",
   "display_name": "Python 3.8.8 64-bit ('base': conda)"
  },
  "language_info": {
   "codemirror_mode": {
    "name": "ipython",
    "version": 3
   },
   "file_extension": ".py",
   "mimetype": "text/x-python",
   "name": "python",
   "nbconvert_exporter": "python",
   "pygments_lexer": "ipython3",
   "version": "3.8.8"
  },
  "interpreter": {
   "hash": "d2d89f1d45a9cdac92ac563e975a3f3575462325b50059fcc33a08ca2f6292be"
  }
 },
 "nbformat": 4,
 "nbformat_minor": 4
}