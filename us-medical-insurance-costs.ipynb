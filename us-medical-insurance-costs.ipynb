{
 "cells": [
  {
   "cell_type": "markdown",
   "metadata": {},
   "source": [
    "# U.S. Medical Insurance Costs"
   ]
  },
  {
   "cell_type": "code",
   "execution_count": 40,
   "metadata": {},
   "outputs": [],
   "source": [
    "import csv"
   ]
  },
  {
   "cell_type": "code",
   "execution_count": 41,
   "metadata": {},
   "outputs": [],
   "source": [
    "## Scope ###\n",
    "\n",
    "## Age ##\n",
    "# Find the average age, for all and gender\n",
    "\n",
    "## Charges ##\n",
    "# Average charge, for all and gender\n",
    "\n",
    "## Smoking ##\n",
    "# Find ratio of smokers in genders\n",
    "# Find ratio of smokers with low, normal and high BMI\n",
    "# Find ratio of smokers for people with and without kids\n",
    "# Average price increanse for smokers vs non-smokers\n",
    "\n",
    "## Regions ##\n",
    "# Find ratio between regions\n",
    "# Find price difference between regions\n",
    "# Possible reason for higher, lower price in certain region\n",
    "\n",
    "## Children ##\n",
    "# Ratio of having kids vs not\n",
    "# Average price increase of 1 child\n",
    "# Average amount of kids in segment 'having kids'\n",
    "\n",
    "## BMI ##\n",
    "# Average BMI\n",
    "# Average price increase for high BMI\n",
    "# Ratio of BMI low, normal, high"
   ]
  },
  {
   "cell_type": "code",
   "execution_count": 42,
   "metadata": {
    "tags": []
   },
   "outputs": [],
   "source": [
    "\n",
    "\n",
    "with open('insurance.csv', newline='') as csvfile:\n",
    "    fieldnames = ['age','sex','bmi','children','smoker','region','charges']\n",
    "    data = list(csv.DictReader(csvfile, fieldnames=fieldnames))\n",
    "    \n",
    "    \n",
    "\n",
    "    age_f = []\n",
    "    age_m = []\n",
    "\n",
    "    charges_f = []\n",
    "    charges_m = []\n",
    "\n",
    "    smokers_f =[]\n",
    "    smokers_m = []\n",
    "\n",
    "    for i in data:\n",
    "        if i['sex'] == 'female':\n",
    "            age_f.append(float(i['age']))\n",
    "            charges_f.append(float(i['charges']))\n",
    "            smokers_f.append(i['smoker'])\n",
    "        elif i['sex'] == 'male':\n",
    "            age_m.append(float(i['age']))\n",
    "            charges_m.append(float(i['charges']))\n",
    "            smokers_m.append(i['smoker'])\n",
    "\n",
    "    avg_female_age = sum(age_f) / len(age_f)\n",
    "    avg_male_age = sum(age_m) / len(age_m)\n",
    "    #print(round(avg_female_age,1))\n",
    "    #print(round(avg_male_age,1))\n",
    "\n",
    "    num_of_female = len(age_f)\n",
    "    num_of_male = len(age_m)\n",
    "    #print(num_of_female)\n",
    "    #print(num_of_male)\n",
    "\n",
    "    avg_female_charge = sum(charges_f) / len(charges_f)\n",
    "    avg_male_charge = sum(charges_m) / len(charges_m)\n",
    "    #print(round(avg_female_charge,2))\n",
    "    #print(round(avg_male_charge,2))\n",
    "\n",
    "    def charges_dif():\n",
    "        if avg_female_charge > avg_male_charge:\n",
    "            print('Females pay on average ' + str(round(avg_female_charge - avg_male_charge,2)) + ' dollars more than males.')\n",
    "        else:\n",
    "            print('Males pay on average ' + str(round(avg_male_charge - avg_female_charge,2)) + ' dollars more than females.')\n",
    "    #charges_dif()\n",
    "\n",
    "\n",
    "    "
   ]
  },
  {
   "cell_type": "code",
   "execution_count": 43,
   "metadata": {},
   "outputs": [
    {
     "output_type": "stream",
     "name": "stdout",
     "text": [
      "38.917159763313606\n"
     ]
    }
   ],
   "source": [
    "    ## Age ##\n",
    "    # Find the average age for all customers\n",
    "    \n",
    "    all_gender_age = [i['age'] for i in data]\n",
    "    all_gender_age.remove('age') #clean up of values\n",
    "\n",
    "    def sum_list(list):\n",
    "        total = 0\n",
    "        for val in list:\n",
    "            total += int(val)\n",
    "        return total\n",
    "    \n",
    "    all_gender_age_mean = sum_list(all_gender_age) / len(all_gender_age)\n",
    "    #prints 39.2\n",
    "    \n",
    "\n",
    "    # Find the average age for both genders\n",
    "    female_age = [i['age'] for i in data if i['sex'] == 'female']\n",
    "    female_age_mean = sum_list(female_age)/len(female_age)\n",
    "    #prints 39.503021148036254\n",
    "\n",
    "    male_age = [i['age'] for i in data if i['sex'] == 'male']\n",
    "    male_age_mean = sum_list(male_age)/len(male_age)\n",
    "    #prints 38.917159763313606"
   ]
  },
  {
   "cell_type": "code",
   "execution_count": null,
   "metadata": {},
   "outputs": [],
   "source": []
  }
 ],
 "metadata": {
  "kernelspec": {
   "name": "python3",
   "display_name": "Python 3.8.8 64-bit ('base': conda)"
  },
  "language_info": {
   "codemirror_mode": {
    "name": "ipython",
    "version": 3
   },
   "file_extension": ".py",
   "mimetype": "text/x-python",
   "name": "python",
   "nbconvert_exporter": "python",
   "pygments_lexer": "ipython3",
   "version": "3.8.8"
  },
  "interpreter": {
   "hash": "d2d89f1d45a9cdac92ac563e975a3f3575462325b50059fcc33a08ca2f6292be"
  }
 },
 "nbformat": 4,
 "nbformat_minor": 4
}