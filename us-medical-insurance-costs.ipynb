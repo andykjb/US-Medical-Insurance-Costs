{
 "cells": [
  {
   "cell_type": "markdown",
   "metadata": {},
   "source": [
    "# U.S. Medical Insurance Costs"
   ]
  },
  {
   "cell_type": "code",
   "execution_count": 2,
   "metadata": {},
   "outputs": [],
   "source": [
    "import csv"
   ]
  },
  {
   "cell_type": "code",
   "execution_count": 33,
   "metadata": {
    "tags": []
   },
   "outputs": [
    {
     "output_type": "stream",
     "name": "stdout",
     "text": [
      "662\n676\n"
     ]
    }
   ],
   "source": [
    "###### Content ######\n",
    "# Age related queries\n",
    "\n",
    "\n",
    "\n",
    "#### Age section ####\n",
    "\n",
    "with open('insurance.csv', newline='') as csvfile:\n",
    "    fieldnames = ['age','sex','bmi','children','smoker','region','charges']\n",
    "    data = list(csv.DictReader(csvfile, fieldnames=fieldnames))\n",
    "    age_f = []\n",
    "    age_m = []\n",
    "    for i in data:\n",
    "        if i['sex'] == 'female':\n",
    "            age_f.append(int(i['age']))\n",
    "        elif i['sex'] == 'male':\n",
    "            age_m.append(int(i['age']))\n",
    "\n",
    "    avg_female_age = sum(age_f) / len(age_f)\n",
    "    avg_male_age = sum(age_m) / len(age_m)\n",
    "    #print(round(avg_female_age,1))\n",
    "    #print(round(avg_male_age,1))\n",
    "\n",
    "    num_of_female = len(age_f)\n",
    "    num_of_male = len(age_m)\n",
    "    #print(num_of_female)\n",
    "    #print(num_of_male)\n",
    "\n",
    "    \n",
    "    "
   ]
  }
 ],
 "metadata": {
  "kernelspec": {
   "name": "python3",
   "display_name": "Python 3.8.8 64-bit ('base': conda)"
  },
  "language_info": {
   "codemirror_mode": {
    "name": "ipython",
    "version": 3
   },
   "file_extension": ".py",
   "mimetype": "text/x-python",
   "name": "python",
   "nbconvert_exporter": "python",
   "pygments_lexer": "ipython3",
   "version": "3.8.8"
  },
  "interpreter": {
   "hash": "d2d89f1d45a9cdac92ac563e975a3f3575462325b50059fcc33a08ca2f6292be"
  }
 },
 "nbformat": 4,
 "nbformat_minor": 4
}