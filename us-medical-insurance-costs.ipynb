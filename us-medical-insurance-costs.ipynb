{
 "cells": [
  {
   "cell_type": "markdown",
   "metadata": {},
   "source": [
    "# U.S. Medical Insurance Costs"
   ]
  },
  {
   "cell_type": "code",
   "execution_count": 77,
   "metadata": {},
   "outputs": [],
   "source": [
    "import csv"
   ]
  },
  {
   "cell_type": "code",
   "execution_count": 78,
   "metadata": {},
   "outputs": [],
   "source": [
    "## Scope ###\n",
    "\n",
    "## Age ##\n",
    "# Find the average age, for all and gender\n",
    "\n",
    "## Charges ##\n",
    "# Average charge, for all and gender\n",
    "\n",
    "## BMI ##\n",
    "# Average BMI\n",
    "# Ratio of BMI low, normal, high\n",
    "\n",
    "## Smoking ##\n",
    "# Find ratio of smokers in genders\n",
    "# Find ratio of smokers with low, normal and high BMI\n",
    "# Find ratio of smokers for people with and without kids\n",
    "\n",
    "## Regions ##\n",
    "# Find ratio between regions\n",
    "# Find price difference between regions\n",
    "# Possible reason for higher, lower price in certain region\n",
    "\n",
    "## Children ##\n",
    "# Ratio of having kids vs not\n",
    "# Average price increase of 1 child\n",
    "# Average amount of kids in segment 'having kids'\n",
    "\n"
   ]
  },
  {
   "cell_type": "code",
   "execution_count": 139,
   "metadata": {
    "tags": []
   },
   "outputs": [
    {
     "output_type": "stream",
     "name": "stdout",
     "text": [
      "19\n"
     ]
    }
   ],
   "source": [
    "\n",
    "\n",
    "with open('insurance.csv', newline='') as csvfile:\n",
    "    fieldnames = ['age','sex','bmi','children','smoker','region','charges']\n",
    "    data = list(csv.DictReader(csvfile, fieldnames=fieldnames))\n",
    "    print(data[1]['age'])\n",
    "\n",
    "    for i in range(1,len(data)):\n",
    "        data[i]['age'] = int(data[i]['age'])\n",
    "        data[i]['bmi'] = float(data[i]['bmi'])\n",
    "        data[i]['children'] = float(data[i]['children'])\n",
    "        data[i]['charges'] = float(data[i]['charges'])\n"
   ]
  },
  {
   "cell_type": "code",
   "execution_count": 135,
   "metadata": {},
   "outputs": [],
   "source": [
    "    def list_mean(list):\n",
    "        total = 0\n",
    "        for val in list:\n",
    "            total += val\n",
    "        return total / len(list)\n",
    "    \n",
    "    def ratio(main_list, sub_list):\n",
    "        return len(sub_list) / len(main_list)\n"
   ]
  },
  {
   "cell_type": "code",
   "execution_count": 136,
   "metadata": {},
   "outputs": [
    {
     "output_type": "execute_result",
     "data": {
      "text/plain": [
       "38.917159763313606"
      ]
     },
     "metadata": {},
     "execution_count": 136
    }
   ],
   "source": [
    "    ## Age ##\n",
    "    # Find the average age for all customers\n",
    "    \n",
    "    all_gender_age = [i['age'] for i in data]\n",
    "    all_gender_age.remove('age') #clean up of values\n",
    "    \n",
    "    list_mean(all_gender_age)\n",
    "    #prints 39.20702541106129\n",
    "    \n",
    "\n",
    "    # Find the average age for both genders\n",
    "    female_age = [i['age'] for i in data if i['sex'] == 'female']\n",
    "    list_mean(female_age)\n",
    "    #prints 39.503021148036254\n",
    "\n",
    "    male_age = [i['age'] for i in data if i['sex'] == 'male']\n",
    "    list_mean(male_age)\n",
    "    #prints 38.917159763313606"
   ]
  },
  {
   "cell_type": "code",
   "execution_count": 137,
   "metadata": {},
   "outputs": [
    {
     "output_type": "execute_result",
     "data": {
      "text/plain": [
       "12569.57884383534"
      ]
     },
     "metadata": {},
     "execution_count": 137
    }
   ],
   "source": [
    "    ## Charges ##\n",
    "    # Average charge for all\n",
    "    \n",
    "    all_charges = [i['charges'] for i in data]\n",
    "    all_charges.remove('charges')\n",
    "\n",
    "    list_mean(all_charges)\n",
    "    #prints 13270.422265141257\n",
    "\n",
    "    # Average charge for genders\n",
    "    female_charges = [i['charges'] for i in data if i['sex'] == 'female']\n",
    "    list_mean(female_charges)\n",
    "    #prints 12569.57884383534"
   ]
  },
  {
   "cell_type": "code",
   "execution_count": 141,
   "metadata": {},
   "outputs": [
    {
     "output_type": "error",
     "ename": "TypeError",
     "evalue": "'<' not supported between instances of 'str' and 'float'",
     "traceback": [
      "\u001b[0;31m---------------------------------------------------------------------------\u001b[0m",
      "\u001b[0;31mTypeError\u001b[0m                                 Traceback (most recent call last)",
      "\u001b[0;32m<ipython-input-141-f121f710a8e8>\u001b[0m in \u001b[0;36m<module>\u001b[0;34m\u001b[0m\n\u001b[1;32m     14\u001b[0m \u001b[0;31m#High > 24.9\u001b[0m\u001b[0;34m\u001b[0m\u001b[0;34m\u001b[0m\u001b[0;34m\u001b[0m\u001b[0m\n\u001b[1;32m     15\u001b[0m \u001b[0;34m\u001b[0m\u001b[0m\n\u001b[0;32m---> 16\u001b[0;31m \u001b[0mlow_bmis\u001b[0m \u001b[0;34m=\u001b[0m \u001b[0;34m[\u001b[0m\u001b[0mi\u001b[0m \u001b[0;32mfor\u001b[0m \u001b[0mi\u001b[0m \u001b[0;32min\u001b[0m \u001b[0mdata\u001b[0m \u001b[0;32mif\u001b[0m \u001b[0mi\u001b[0m\u001b[0;34m[\u001b[0m\u001b[0;34m'bmi'\u001b[0m\u001b[0;34m]\u001b[0m \u001b[0;34m<\u001b[0m \u001b[0;36m18.5\u001b[0m\u001b[0;34m]\u001b[0m\u001b[0;34m\u001b[0m\u001b[0;34m\u001b[0m\u001b[0m\n\u001b[0m\u001b[1;32m     17\u001b[0m \u001b[0mnormal_bmis\u001b[0m \u001b[0;34m=\u001b[0m \u001b[0;34m[\u001b[0m\u001b[0mi\u001b[0m \u001b[0;32mfor\u001b[0m \u001b[0mi\u001b[0m \u001b[0;32min\u001b[0m \u001b[0mdata\u001b[0m \u001b[0;32mif\u001b[0m \u001b[0mi\u001b[0m\u001b[0;34m[\u001b[0m\u001b[0;34m'bmi'\u001b[0m\u001b[0;34m]\u001b[0m \u001b[0;34m>=\u001b[0m \u001b[0;36m18.5\u001b[0m \u001b[0;32mand\u001b[0m  \u001b[0mi\u001b[0m \u001b[0;34m<=\u001b[0m \u001b[0;36m24.9\u001b[0m\u001b[0;34m]\u001b[0m\u001b[0;34m\u001b[0m\u001b[0;34m\u001b[0m\u001b[0m\n\u001b[1;32m     18\u001b[0m \u001b[0mhigh_bmis\u001b[0m \u001b[0;34m=\u001b[0m \u001b[0;34m[\u001b[0m\u001b[0mi\u001b[0m \u001b[0;32mfor\u001b[0m \u001b[0mi\u001b[0m \u001b[0;32min\u001b[0m \u001b[0mdata\u001b[0m \u001b[0;32mif\u001b[0m \u001b[0mi\u001b[0m\u001b[0;34m[\u001b[0m\u001b[0;34m'bmi'\u001b[0m\u001b[0;34m]\u001b[0m \u001b[0;34m>\u001b[0m \u001b[0;36m24.9\u001b[0m\u001b[0;34m]\u001b[0m\u001b[0;34m\u001b[0m\u001b[0;34m\u001b[0m\u001b[0m\n",
      "\u001b[0;32m<ipython-input-141-f121f710a8e8>\u001b[0m in \u001b[0;36m<listcomp>\u001b[0;34m(.0)\u001b[0m\n\u001b[1;32m     14\u001b[0m \u001b[0;31m#High > 24.9\u001b[0m\u001b[0;34m\u001b[0m\u001b[0;34m\u001b[0m\u001b[0;34m\u001b[0m\u001b[0m\n\u001b[1;32m     15\u001b[0m \u001b[0;34m\u001b[0m\u001b[0m\n\u001b[0;32m---> 16\u001b[0;31m \u001b[0mlow_bmis\u001b[0m \u001b[0;34m=\u001b[0m \u001b[0;34m[\u001b[0m\u001b[0mi\u001b[0m \u001b[0;32mfor\u001b[0m \u001b[0mi\u001b[0m \u001b[0;32min\u001b[0m \u001b[0mdata\u001b[0m \u001b[0;32mif\u001b[0m \u001b[0mi\u001b[0m\u001b[0;34m[\u001b[0m\u001b[0;34m'bmi'\u001b[0m\u001b[0;34m]\u001b[0m \u001b[0;34m<\u001b[0m \u001b[0;36m18.5\u001b[0m\u001b[0;34m]\u001b[0m\u001b[0;34m\u001b[0m\u001b[0;34m\u001b[0m\u001b[0m\n\u001b[0m\u001b[1;32m     17\u001b[0m \u001b[0mnormal_bmis\u001b[0m \u001b[0;34m=\u001b[0m \u001b[0;34m[\u001b[0m\u001b[0mi\u001b[0m \u001b[0;32mfor\u001b[0m \u001b[0mi\u001b[0m \u001b[0;32min\u001b[0m \u001b[0mdata\u001b[0m \u001b[0;32mif\u001b[0m \u001b[0mi\u001b[0m\u001b[0;34m[\u001b[0m\u001b[0;34m'bmi'\u001b[0m\u001b[0;34m]\u001b[0m \u001b[0;34m>=\u001b[0m \u001b[0;36m18.5\u001b[0m \u001b[0;32mand\u001b[0m  \u001b[0mi\u001b[0m \u001b[0;34m<=\u001b[0m \u001b[0;36m24.9\u001b[0m\u001b[0;34m]\u001b[0m\u001b[0;34m\u001b[0m\u001b[0;34m\u001b[0m\u001b[0m\n\u001b[1;32m     18\u001b[0m \u001b[0mhigh_bmis\u001b[0m \u001b[0;34m=\u001b[0m \u001b[0;34m[\u001b[0m\u001b[0mi\u001b[0m \u001b[0;32mfor\u001b[0m \u001b[0mi\u001b[0m \u001b[0;32min\u001b[0m \u001b[0mdata\u001b[0m \u001b[0;32mif\u001b[0m \u001b[0mi\u001b[0m\u001b[0;34m[\u001b[0m\u001b[0;34m'bmi'\u001b[0m\u001b[0;34m]\u001b[0m \u001b[0;34m>\u001b[0m \u001b[0;36m24.9\u001b[0m\u001b[0;34m]\u001b[0m\u001b[0;34m\u001b[0m\u001b[0;34m\u001b[0m\u001b[0m\n",
      "\u001b[0;31mTypeError\u001b[0m: '<' not supported between instances of 'str' and 'float'"
     ]
    }
   ],
   "source": [
    "    ## BMI ##\n",
    "    all_bmis = [i['bmi'] for i in data]\n",
    "    all_bmis.remove('bmi')\n",
    "    for i in range(0, len(all_bmis)):\n",
    "        all_bmis[i] = float(all_bmis[i])\n",
    "    \n",
    "    # Average BMI\n",
    "    list_mean(all_bmis)\n",
    "    #prints 30.663396860986538\n",
    "    \n",
    "    # Ratio of BMI low, normal, high\n",
    "    #Low < 18.5\n",
    "    #normal 18.5 - 24.9\n",
    "    #High > 24.9\n",
    "\n",
    "    low_bmis = [i for i in data if i['bmi'] < 18.5]\n",
    "    normal_bmis = [i for i in data if i['bmi'] >= 18.5 and  i <= 24.9]\n",
    "    high_bmis = [i for i in data if i['bmi'] > 24.9]\n",
    "\n",
    "    ratio(all_bmis,low_bmis)\n",
    "    #prints 0.014947683109118086\n",
    "\n",
    "    ratio(all_bmis,normal_bmis)\n",
    "    #prints 0.16591928251121077\n",
    "\n",
    "    ratio(all_bmis,high_bmis)\n",
    "    #prints 0.8191330343796711"
   ]
  },
  {
   "cell_type": "code",
   "execution_count": 110,
   "metadata": {
    "tags": []
   },
   "outputs": [
    {
     "output_type": "error",
     "ename": "TypeError",
     "evalue": "'float' object is not subscriptable",
     "traceback": [
      "\u001b[0;31m---------------------------------------------------------------------------\u001b[0m",
      "\u001b[0;31mTypeError\u001b[0m                                 Traceback (most recent call last)",
      "\u001b[0;32m<ipython-input-110-a94415c45556>\u001b[0m in \u001b[0;36m<module>\u001b[0;34m\u001b[0m\n\u001b[1;32m      8\u001b[0m \u001b[0;34m\u001b[0m\u001b[0m\n\u001b[1;32m      9\u001b[0m \u001b[0;31m# Find ratio of smokers with low, normal and high BMI\u001b[0m\u001b[0;34m\u001b[0m\u001b[0;34m\u001b[0m\u001b[0;34m\u001b[0m\u001b[0m\n\u001b[0;32m---> 10\u001b[0;31m \u001b[0mlow_bmi_smokers\u001b[0m \u001b[0;34m=\u001b[0m \u001b[0;34m[\u001b[0m\u001b[0mi\u001b[0m \u001b[0;32mfor\u001b[0m \u001b[0mi\u001b[0m \u001b[0;32min\u001b[0m \u001b[0mlow_bmis\u001b[0m \u001b[0;32mif\u001b[0m \u001b[0mi\u001b[0m\u001b[0;34m[\u001b[0m\u001b[0;34m'smoker'\u001b[0m\u001b[0;34m]\u001b[0m \u001b[0;34m==\u001b[0m \u001b[0;34m'yes'\u001b[0m\u001b[0;34m]\u001b[0m\u001b[0;34m\u001b[0m\u001b[0;34m\u001b[0m\u001b[0m\n\u001b[0m\u001b[1;32m     11\u001b[0m \u001b[0mprint\u001b[0m\u001b[0;34m(\u001b[0m\u001b[0mlow_bmi_smokers\u001b[0m\u001b[0;34m)\u001b[0m\u001b[0;34m\u001b[0m\u001b[0;34m\u001b[0m\u001b[0m\n\u001b[1;32m     12\u001b[0m \u001b[0;34m\u001b[0m\u001b[0m\n",
      "\u001b[0;32m<ipython-input-110-a94415c45556>\u001b[0m in \u001b[0;36m<listcomp>\u001b[0;34m(.0)\u001b[0m\n\u001b[1;32m      8\u001b[0m \u001b[0;34m\u001b[0m\u001b[0m\n\u001b[1;32m      9\u001b[0m \u001b[0;31m# Find ratio of smokers with low, normal and high BMI\u001b[0m\u001b[0;34m\u001b[0m\u001b[0;34m\u001b[0m\u001b[0;34m\u001b[0m\u001b[0m\n\u001b[0;32m---> 10\u001b[0;31m \u001b[0mlow_bmi_smokers\u001b[0m \u001b[0;34m=\u001b[0m \u001b[0;34m[\u001b[0m\u001b[0mi\u001b[0m \u001b[0;32mfor\u001b[0m \u001b[0mi\u001b[0m \u001b[0;32min\u001b[0m \u001b[0mlow_bmis\u001b[0m \u001b[0;32mif\u001b[0m \u001b[0mi\u001b[0m\u001b[0;34m[\u001b[0m\u001b[0;34m'smoker'\u001b[0m\u001b[0;34m]\u001b[0m \u001b[0;34m==\u001b[0m \u001b[0;34m'yes'\u001b[0m\u001b[0;34m]\u001b[0m\u001b[0;34m\u001b[0m\u001b[0;34m\u001b[0m\u001b[0m\n\u001b[0m\u001b[1;32m     11\u001b[0m \u001b[0mprint\u001b[0m\u001b[0;34m(\u001b[0m\u001b[0mlow_bmi_smokers\u001b[0m\u001b[0;34m)\u001b[0m\u001b[0;34m\u001b[0m\u001b[0;34m\u001b[0m\u001b[0m\n\u001b[1;32m     12\u001b[0m \u001b[0;34m\u001b[0m\u001b[0m\n",
      "\u001b[0;31mTypeError\u001b[0m: 'float' object is not subscriptable"
     ]
    }
   ],
   "source": [
    "    ## Smoking ##\n",
    "    # Find ratio of smokers in genders\n",
    "    smokers = [i for i in data if i['smoker'] == 'yes']\n",
    "    non_smokers = [i for i in data if i['smoker'] == 'no' ]\n",
    "\n",
    "    ratio(data, smokers)\n",
    "    #prints 0.2046303211351755\n",
    "    \n",
    "    # Find ratio of smokers with low, normal and high BMI\n",
    "    low_bmi_smokers = [i for i in low_bmis if i['smoker'] == 'yes']\n",
    "    print(low_bmi_smokers)\n",
    "\n",
    "    # Find ratio of smokers for people with and without kids\n",
    "\n",
    "\n",
    "\n"
   ]
  },
  {
   "cell_type": "code",
   "execution_count": null,
   "metadata": {},
   "outputs": [],
   "source": []
  }
 ],
 "metadata": {
  "kernelspec": {
   "name": "python3",
   "display_name": "Python 3.8.8 64-bit ('base': conda)"
  },
  "language_info": {
   "codemirror_mode": {
    "name": "ipython",
    "version": 3
   },
   "file_extension": ".py",
   "mimetype": "text/x-python",
   "name": "python",
   "nbconvert_exporter": "python",
   "pygments_lexer": "ipython3",
   "version": "3.8.8"
  },
  "interpreter": {
   "hash": "d2d89f1d45a9cdac92ac563e975a3f3575462325b50059fcc33a08ca2f6292be"
  }
 },
 "nbformat": 4,
 "nbformat_minor": 4
}